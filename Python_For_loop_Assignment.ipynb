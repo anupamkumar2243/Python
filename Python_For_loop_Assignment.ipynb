{
  "nbformat": 4,
  "nbformat_minor": 0,
  "metadata": {
    "colab": {
      "provenance": []
    },
    "kernelspec": {
      "name": "python3",
      "display_name": "Python 3"
    },
    "language_info": {
      "name": "python"
    }
  },
  "cells": [
    {
      "cell_type": "markdown",
      "source": [
        "# Basic Label"
      ],
      "metadata": {
        "id": "ow4Q_xuZBW5U"
      }
    },
    {
      "cell_type": "code",
      "execution_count": null,
      "metadata": {
        "colab": {
          "base_uri": "https://localhost:8080/"
        },
        "id": "Wl7JyTF6BFPY",
        "outputId": "8b5846a8-1855-438f-e262-c9e762fa0731"
      },
      "outputs": [
        {
          "output_type": "stream",
          "name": "stdout",
          "text": [
            "enter the number10\n",
            "1\n",
            "2\n",
            "3\n",
            "4\n",
            "5\n",
            "6\n",
            "7\n",
            "8\n",
            "9\n",
            "10\n"
          ]
        }
      ],
      "source": [
        "# Write a Python program to print the numbers from 1 to 10 using a `for` loop.\n",
        "a = int(input('enter the number'))\n",
        "for i in range(1,a+1):\n",
        "  print(i)"
      ]
    },
    {
      "cell_type": "code",
      "source": [
        "# Create a program that calculates the sum of all numbers in a list using a `for` loop.\n",
        "a = [1,2,3,4,5]\n",
        "sum = 0\n",
        "for i in a:\n",
        "  sum += i\n",
        "print(sum)"
      ],
      "metadata": {
        "colab": {
          "base_uri": "https://localhost:8080/"
        },
        "id": "b_kuOeelBnFa",
        "outputId": "42251b73-43b4-4193-87a9-2797aea8d5f4"
      },
      "execution_count": null,
      "outputs": [
        {
          "output_type": "stream",
          "name": "stdout",
          "text": [
            "15\n"
          ]
        }
      ]
    },
    {
      "cell_type": "code",
      "source": [
        "# Write a program to print the characters of a string in reverse order using a `for` loop.\n",
        "a = 'hello'\n",
        "char = ''\n",
        "for i in reversed(a):\n",
        "  char +=i\n",
        "print(char)"
      ],
      "metadata": {
        "colab": {
          "base_uri": "https://localhost:8080/"
        },
        "id": "vytbMvp3HGk1",
        "outputId": "046bd5fb-fc17-41d8-a9d6-e15491b619be"
      },
      "execution_count": null,
      "outputs": [
        {
          "output_type": "stream",
          "name": "stdout",
          "text": [
            "olleh\n"
          ]
        }
      ]
    },
    {
      "cell_type": "code",
      "source": [
        "# Develop a program that finds the factorial of a given number using a `for` loop.\n",
        "a = int(input('enter the number'))\n",
        "fact = 1\n",
        "for i in range(1,a+1):\n",
        "  fact = fact * i\n",
        "print(fact)"
      ],
      "metadata": {
        "colab": {
          "base_uri": "https://localhost:8080/"
        },
        "id": "RYYgRzapIAWk",
        "outputId": "309df07d-45d5-48f3-e679-9d5e60078ced"
      },
      "execution_count": null,
      "outputs": [
        {
          "output_type": "stream",
          "name": "stdout",
          "text": [
            "enter the number4\n",
            "24\n"
          ]
        }
      ]
    },
    {
      "cell_type": "code",
      "source": [
        "# Create a program to print the multiplication table of a given number using a `for` loop.\n",
        "a = int(input('enter the number'))\n",
        "for i in range(1,11):\n",
        "  mul = a * i\n",
        "  print(mul)"
      ],
      "metadata": {
        "colab": {
          "base_uri": "https://localhost:8080/"
        },
        "id": "1cuJ50acMtB1",
        "outputId": "2dfe84f1-d44b-4ba4-bdc0-39b4c00e6bab"
      },
      "execution_count": null,
      "outputs": [
        {
          "output_type": "stream",
          "name": "stdout",
          "text": [
            "enter the number5\n",
            "5\n",
            "10\n",
            "15\n",
            "20\n",
            "25\n",
            "30\n",
            "35\n",
            "40\n",
            "45\n",
            "50\n"
          ]
        }
      ]
    },
    {
      "cell_type": "code",
      "source": [
        "# Write a program that counts the number of even and odd numbers in a list using a `for` loop.\n",
        "a = [1,2,5,7,3,6,8,6,43,4]\n",
        "odd = 0\n",
        "even = 0\n",
        "for i in a:\n",
        "  if i %2==0:\n",
        "    even+=1\n",
        "  else:\n",
        "    odd+=1\n",
        "print(odd)\n",
        "print(even)"
      ],
      "metadata": {
        "colab": {
          "base_uri": "https://localhost:8080/"
        },
        "id": "bGpEV79vODER",
        "outputId": "a35a59c4-033e-4f81-b551-9e1c976fd2ad"
      },
      "execution_count": null,
      "outputs": [
        {
          "output_type": "stream",
          "name": "stdout",
          "text": [
            "5\n",
            "5\n"
          ]
        }
      ]
    },
    {
      "cell_type": "code",
      "source": [
        "# Develop a program that prints the squares of numbers from 1 to 5 using a `for` loop.\n",
        "a = int(input('enter the number'))\n",
        "for i in range(1,a+1):\n",
        "  square = i ** 2\n",
        "  print(square)"
      ],
      "metadata": {
        "colab": {
          "base_uri": "https://localhost:8080/"
        },
        "id": "u2vLzXhWPyqp",
        "outputId": "877390a2-e8fb-4b42-fd2d-080f4a0ae9b8"
      },
      "execution_count": null,
      "outputs": [
        {
          "output_type": "stream",
          "name": "stdout",
          "text": [
            "enter the number5\n",
            "1\n",
            "4\n",
            "9\n",
            "16\n",
            "25\n"
          ]
        }
      ]
    },
    {
      "cell_type": "code",
      "source": [
        "# Create a program to find the length of a string without using the `len()` function.\n",
        "a = input('enter the string')\n",
        "count = 0\n",
        "for i in a:\n",
        "  count+=1\n",
        "print(count)"
      ],
      "metadata": {
        "colab": {
          "base_uri": "https://localhost:8080/"
        },
        "id": "Rchvv755SxCO",
        "outputId": "c5817988-c940-4b22-b27c-e8143e33d34a"
      },
      "execution_count": null,
      "outputs": [
        {
          "output_type": "stream",
          "name": "stdout",
          "text": [
            "enter the stringhello world\n",
            "11\n"
          ]
        }
      ]
    },
    {
      "cell_type": "code",
      "source": [
        "# Write a program that calculates the average of a list of numbers using a `for` loop.\n",
        "a = [3,5,7,3,7,8]\n",
        "avg = 0\n",
        "for i in a:\n",
        "  avg +=i/2\n",
        "print(avg)"
      ],
      "metadata": {
        "colab": {
          "base_uri": "https://localhost:8080/"
        },
        "id": "hF68URSXTPcW",
        "outputId": "b05d3e14-c676-40f9-e1a8-20b7d47dda2f"
      },
      "execution_count": null,
      "outputs": [
        {
          "output_type": "stream",
          "name": "stdout",
          "text": [
            "16.5\n"
          ]
        }
      ]
    },
    {
      "cell_type": "code",
      "source": [
        "# Develop a program that prints the first `n` Fibonacci numbers using a `for` loop.\n",
        "num = int(input('enter the number'))\n",
        "a = 0\n",
        "b = 1\n",
        "print(a)\n",
        "print(b)\n",
        "for i in range(1,num-2):\n",
        "  a,b = b,a+b\n",
        "  print(b)"
      ],
      "metadata": {
        "colab": {
          "base_uri": "https://localhost:8080/"
        },
        "id": "SC-qvpmkVApY",
        "outputId": "b9a06923-8cd5-4e8a-806d-d837273b4b97"
      },
      "execution_count": null,
      "outputs": [
        {
          "output_type": "stream",
          "name": "stdout",
          "text": [
            "enter the number10\n",
            "0\n",
            "1\n",
            "1\n",
            "2\n",
            "3\n",
            "5\n",
            "8\n",
            "13\n",
            "21\n"
          ]
        }
      ]
    },
    {
      "cell_type": "markdown",
      "source": [
        "# Intermediate Level"
      ],
      "metadata": {
        "id": "bW_OyJfqZXMB"
      }
    },
    {
      "cell_type": "code",
      "source": [
        "# Write a program to check if a given list contains any duplicates using a `for` loop.\n",
        "a = [2,4,6,7,8,4,5,3]\n",
        "duplicates = False\n",
        "for i in range(len(a)):\n",
        "  for j in range(i+1,len(a)):\n",
        "    if a[i] == a[j]:\n",
        "      duplicates = True\n",
        "      break\n",
        "if duplicates:\n",
        "  print('it containes duplicates values')\n",
        "else:\n",
        "  print('it doesnot contains duplicates values')"
      ],
      "metadata": {
        "colab": {
          "base_uri": "https://localhost:8080/"
        },
        "id": "bZ8QDXaqZDb0",
        "outputId": "8a8ed179-d3b6-49ce-efed-e7775f96e491"
      },
      "execution_count": null,
      "outputs": [
        {
          "output_type": "stream",
          "name": "stdout",
          "text": [
            "it containes duplicates values\n"
          ]
        }
      ]
    },
    {
      "cell_type": "code",
      "source": [
        "# Create a program that prints the prime numbers in a given range using a `for` loop.\n",
        "a = int(input('enter the number: '))\n",
        "if a >1:\n",
        "  for i in range(2,int(a/2)+1):\n",
        "    if (a % i) == 0:\n",
        "      print(f'{i} is a not prime number')\n",
        "      break\n",
        "  else:\n",
        "    print(f'{a} is a prime number')\n",
        "else:\n",
        "  print(f'{a} is not a prime number')"
      ],
      "metadata": {
        "colab": {
          "base_uri": "https://localhost:8080/"
        },
        "id": "xiVd4tW2c45p",
        "outputId": "a22f2395-0301-4933-a485-3b1aa00f3a9a"
      },
      "execution_count": null,
      "outputs": [
        {
          "output_type": "stream",
          "name": "stdout",
          "text": [
            "enter the number11\n",
            "11 is a prime number\n"
          ]
        }
      ]
    },
    {
      "cell_type": "code",
      "source": [
        "# Develop a program that counts the number of vowels in a string using a `for` loop.\n",
        "a = input('enter the string: ')\n",
        "count = 0\n",
        "vowels = set('aeiouAEIOU')\n",
        "for i in a:\n",
        "  for vowel in vowels:\n",
        "    if vowel == i:\n",
        "      count+=1\n",
        "print(count)"
      ],
      "metadata": {
        "colab": {
          "base_uri": "https://localhost:8080/"
        },
        "id": "0neAoEvK7aIw",
        "outputId": "5fc30508-3944-4114-fd66-45a930e468b0"
      },
      "execution_count": null,
      "outputs": [
        {
          "output_type": "stream",
          "name": "stdout",
          "text": [
            "enter the string: hello world\n",
            "3\n"
          ]
        }
      ]
    },
    {
      "cell_type": "code",
      "source": [
        "# Write a program to find the maximum element in a 2D list using a nested `for` loop.\n",
        "a = [[1,2,4,56,7],[3,6,4,7,96]]\n",
        "max_element = a[0][0]\n",
        "for i in a:\n",
        "  for j in i:\n",
        "    if j > max_element:\n",
        "      max_element = j\n",
        "print(max_element)"
      ],
      "metadata": {
        "colab": {
          "base_uri": "https://localhost:8080/"
        },
        "id": "aRbNvpyM83-f",
        "outputId": "03424c32-0bf2-453c-ecb3-9483c7793c0d"
      },
      "execution_count": null,
      "outputs": [
        {
          "output_type": "stream",
          "name": "stdout",
          "text": [
            "96\n"
          ]
        }
      ]
    },
    {
      "cell_type": "code",
      "source": [
        "# Create a program that removes all occurrences of a specific element from a list using a `for` loop.\n",
        "a = [2,4,7,6,10,4,4,2,2]\n",
        "element_remove = 4\n",
        "new_list = []\n",
        "for i in a:\n",
        "  if i != element_remove:\n",
        "    new_list.append(i)\n",
        "print(new_list)"
      ],
      "metadata": {
        "colab": {
          "base_uri": "https://localhost:8080/"
        },
        "id": "qiUtTTSsC04v",
        "outputId": "e103974a-1067-4680-85e6-5734b1ed495d"
      },
      "execution_count": null,
      "outputs": [
        {
          "output_type": "stream",
          "name": "stdout",
          "text": [
            "[2, 7, 6, 10, 2, 2]\n"
          ]
        }
      ]
    },
    {
      "cell_type": "code",
      "source": [
        "# Develop a program that generates a multiplication table for numbers from 1 to 5 using a nested `for` loop.\n",
        "start = int(input('enter the number'))\n",
        "end = int(input('enter the number'))\n",
        "for i in range(start,end+1):\n",
        "  print(f\"Multiplication table for {i}:\")\n",
        "  for j in range(1,11):\n",
        "    multiplication = i*j\n",
        "    print(f\"{i} x {j} = {multiplication}\")"
      ],
      "metadata": {
        "colab": {
          "base_uri": "https://localhost:8080/"
        },
        "id": "O8aFfZkMHNvy",
        "outputId": "6bf934db-e59c-4307-c5bf-f50d5109a31c"
      },
      "execution_count": null,
      "outputs": [
        {
          "output_type": "stream",
          "name": "stdout",
          "text": [
            "enter the number1\n",
            "enter the number5\n",
            "Multiplication table for 1:\n",
            "1 x 1 = 1\n",
            "1 x 2 = 2\n",
            "1 x 3 = 3\n",
            "1 x 4 = 4\n",
            "1 x 5 = 5\n",
            "1 x 6 = 6\n",
            "1 x 7 = 7\n",
            "1 x 8 = 8\n",
            "1 x 9 = 9\n",
            "1 x 10 = 10\n",
            "Multiplication table for 2:\n",
            "2 x 1 = 2\n",
            "2 x 2 = 4\n",
            "2 x 3 = 6\n",
            "2 x 4 = 8\n",
            "2 x 5 = 10\n",
            "2 x 6 = 12\n",
            "2 x 7 = 14\n",
            "2 x 8 = 16\n",
            "2 x 9 = 18\n",
            "2 x 10 = 20\n",
            "Multiplication table for 3:\n",
            "3 x 1 = 3\n",
            "3 x 2 = 6\n",
            "3 x 3 = 9\n",
            "3 x 4 = 12\n",
            "3 x 5 = 15\n",
            "3 x 6 = 18\n",
            "3 x 7 = 21\n",
            "3 x 8 = 24\n",
            "3 x 9 = 27\n",
            "3 x 10 = 30\n",
            "Multiplication table for 4:\n",
            "4 x 1 = 4\n",
            "4 x 2 = 8\n",
            "4 x 3 = 12\n",
            "4 x 4 = 16\n",
            "4 x 5 = 20\n",
            "4 x 6 = 24\n",
            "4 x 7 = 28\n",
            "4 x 8 = 32\n",
            "4 x 9 = 36\n",
            "4 x 10 = 40\n",
            "Multiplication table for 5:\n",
            "5 x 1 = 5\n",
            "5 x 2 = 10\n",
            "5 x 3 = 15\n",
            "5 x 4 = 20\n",
            "5 x 5 = 25\n",
            "5 x 6 = 30\n",
            "5 x 7 = 35\n",
            "5 x 8 = 40\n",
            "5 x 9 = 45\n",
            "5 x 10 = 50\n"
          ]
        }
      ]
    },
    {
      "cell_type": "code",
      "source": [
        "# Write a program that converts a list of Fahrenheit temperatures to Celsius using a `for` loop.\n",
        "a = [12,45,64,26,43]\n",
        "for i in a:\n",
        "  Fahrenheit = (i * 1.8) + 32\n",
        "  print(Fahrenheit)"
      ],
      "metadata": {
        "colab": {
          "base_uri": "https://localhost:8080/"
        },
        "id": "8oIDdXv6OEnh",
        "outputId": "dbc376ac-2e97-4dce-c99f-aadd1f1cec05"
      },
      "execution_count": null,
      "outputs": [
        {
          "output_type": "stream",
          "name": "stdout",
          "text": [
            "53.6\n",
            "113.0\n",
            "147.2\n",
            "78.80000000000001\n",
            "109.4\n"
          ]
        }
      ]
    },
    {
      "cell_type": "code",
      "source": [
        "# Create a program to print the common elements from two lists using a `for` loop.\n",
        "a = [2,5,4,6,8]\n",
        "b = [3,6,9,4,1]\n",
        "common_element = []\n",
        "for i in a:\n",
        "  for j in b:\n",
        "    if i == j:\n",
        "      common_element.append(i)\n",
        "print(common_element)"
      ],
      "metadata": {
        "colab": {
          "base_uri": "https://localhost:8080/"
        },
        "id": "Fm-ZTYdyQAwF",
        "outputId": "d21d0b12-7f34-4ac2-ef3a-b608f20f3c7b"
      },
      "execution_count": null,
      "outputs": [
        {
          "output_type": "stream",
          "name": "stdout",
          "text": [
            "[4, 6]\n"
          ]
        }
      ]
    },
    {
      "cell_type": "code",
      "source": [
        "# Develop a program that prints the pattern of right-angled triangles using a `for` loop. Use ‘*’ to draw the pattern\n",
        "a = int(input('enter the rows for the right angled triangle: '))\n",
        "for i in range (1,a+1):\n",
        "  print('*' * i)"
      ],
      "metadata": {
        "colab": {
          "base_uri": "https://localhost:8080/"
        },
        "id": "iC8Q0Y7CTG2d",
        "outputId": "7abae8c5-3bf8-4d0a-9af1-ae296dd1121d"
      },
      "execution_count": null,
      "outputs": [
        {
          "output_type": "stream",
          "name": "stdout",
          "text": [
            "enter the rows for the right angled triangle: 5\n",
            "*\n",
            "**\n",
            "***\n",
            "****\n",
            "*****\n"
          ]
        }
      ]
    },
    {
      "cell_type": "code",
      "source": [
        "# Write a program to find the greatest common divisor (GCD) of two numbers using a `for` loop.\n",
        "a = int(input('enter the number a: '))\n",
        "b = int(input('enter the number b: '))\n",
        "gcd = 1\n",
        "for i in range(1, min(a,b)+1):\n",
        "  if a % i == 0 and b % i == 0:\n",
        "    gcd = i\n",
        "print(gcd)"
      ],
      "metadata": {
        "colab": {
          "base_uri": "https://localhost:8080/"
        },
        "id": "k1O7W6JITkQv",
        "outputId": "a464e565-a96f-421a-d5cc-cbfb775e980c"
      },
      "execution_count": null,
      "outputs": [
        {
          "output_type": "stream",
          "name": "stdout",
          "text": [
            "enter the number a: 10\n",
            "enter the number b: 15\n",
            "5\n"
          ]
        }
      ]
    },
    {
      "cell_type": "markdown",
      "source": [
        "# Advanced Level"
      ],
      "metadata": {
        "id": "MLg0c02lU7cW"
      }
    },
    {
      "cell_type": "code",
      "source": [
        "# Create a program that calculates the sum of the digits of numbers in a list using a list comprehension.\n",
        "a = [12, 67, 98, 34]\n",
        "print(\"The original list is : \" + str(a))\n",
        "res = list(sum(int(digit) for digit in str(num)) for num in a)\n",
        "print(\"List Integer Summation : \" + str(list(res)))"
      ],
      "metadata": {
        "colab": {
          "base_uri": "https://localhost:8080/"
        },
        "id": "aSGEzGg0UlYw",
        "outputId": "d49fa909-f01d-4631-b931-2b178c0ecad8"
      },
      "execution_count": null,
      "outputs": [
        {
          "output_type": "stream",
          "name": "stdout",
          "text": [
            "The original list is : [12, 67, 98, 34]\n",
            "List Integer Summation : [3, 13, 17, 7]\n"
          ]
        }
      ]
    },
    {
      "cell_type": "code",
      "source": [
        "# Write a program to find the prime factors of a given number using a `for` loop and list comprehension.\n",
        "a = int(input('enter the number'))\n",
        "prime_number = [i for i in range(2, a + 1) if a % i == 0 and all(i % divisor != 0 for divisor in range(2, i))]\n",
        "print('it is a prime number',prime_number)"
      ],
      "metadata": {
        "id": "3jHq_N3Gtuov",
        "colab": {
          "base_uri": "https://localhost:8080/"
        },
        "outputId": "1c412029-06ae-499a-c3ae-021cd19307cb"
      },
      "execution_count": null,
      "outputs": [
        {
          "output_type": "stream",
          "name": "stdout",
          "text": [
            "enter the number2\n",
            "it is a prime number [2]\n"
          ]
        }
      ]
    },
    {
      "cell_type": "code",
      "source": [
        "# Develop a program that extracts unique elements from a list and stores them in a new list using a list comprehension.\n",
        "a = [2,4,6,6,7,8]\n",
        "unique_list = list(set(i for i in a))\n",
        "print(unique_list)"
      ],
      "metadata": {
        "id": "DicjtoUv2K7B",
        "colab": {
          "base_uri": "https://localhost:8080/"
        },
        "outputId": "5490e388-c654-4dba-ee1b-adec52e17a50"
      },
      "execution_count": null,
      "outputs": [
        {
          "output_type": "stream",
          "name": "stdout",
          "text": [
            "[2, 4, 6, 7, 8]\n"
          ]
        }
      ]
    },
    {
      "cell_type": "code",
      "source": [
        "# Create a program that generates a list of all palindromic numbers up to a specified limit using a list comprehension.\n",
        "a = int(input('enter the palindromic number'))\n",
        "palindromic_number = [num for num in range(a+1) if str(num)==str(num)[::-1]]\n",
        "print(palindromic_number)"
      ],
      "metadata": {
        "colab": {
          "base_uri": "https://localhost:8080/"
        },
        "id": "pZzljgmSuf2-",
        "outputId": "23780d66-dc2c-4b0d-cd6f-7fbeb9f0d5f4"
      },
      "execution_count": null,
      "outputs": [
        {
          "output_type": "stream",
          "name": "stdout",
          "text": [
            "enter the palindromic number1000\n",
            "[0, 1, 2, 3, 4, 5, 6, 7, 8, 9, 11, 22, 33, 44, 55, 66, 77, 88, 99, 101, 111, 121, 131, 141, 151, 161, 171, 181, 191, 202, 212, 222, 232, 242, 252, 262, 272, 282, 292, 303, 313, 323, 333, 343, 353, 363, 373, 383, 393, 404, 414, 424, 434, 444, 454, 464, 474, 484, 494, 505, 515, 525, 535, 545, 555, 565, 575, 585, 595, 606, 616, 626, 636, 646, 656, 666, 676, 686, 696, 707, 717, 727, 737, 747, 757, 767, 777, 787, 797, 808, 818, 828, 838, 848, 858, 868, 878, 888, 898, 909, 919, 929, 939, 949, 959, 969, 979, 989, 999]\n"
          ]
        }
      ]
    },
    {
      "cell_type": "code",
      "source": [
        "# Write a program to flatten a nested list using list comprehension.\n",
        "a = [[1,2,3],[4,5,6]]\n",
        "flatten_list = [i for sublist in a for i in sublist]\n",
        "print(flatten_list)"
      ],
      "metadata": {
        "colab": {
          "base_uri": "https://localhost:8080/"
        },
        "id": "viPWFZg3wzqh",
        "outputId": "eda4cd0d-8633-4e06-fe51-fa3dfcedf040"
      },
      "execution_count": null,
      "outputs": [
        {
          "output_type": "stream",
          "name": "stdout",
          "text": [
            "[1, 2, 3, 4, 5, 6]\n"
          ]
        }
      ]
    },
    {
      "cell_type": "code",
      "source": [
        "# Develop a program that computes the sum of even and odd numbers in a list separately using list comprehension.\n",
        "a = [1,2,3,4,5,6,7,8,9]\n",
        "odd_number = [i for i in a if i % 2!=0]\n",
        "even_number = [i for i in a if i%2==0]\n",
        "print('sum of a odd number:',sum(odd_number))\n",
        "print('sum of a even number:',sum(even_number))"
      ],
      "metadata": {
        "colab": {
          "base_uri": "https://localhost:8080/"
        },
        "id": "b1yPs3hbyDKA",
        "outputId": "8bb48978-848b-4fe4-9811-ed362a561e04"
      },
      "execution_count": null,
      "outputs": [
        {
          "output_type": "stream",
          "name": "stdout",
          "text": [
            "sum of a odd number: 25\n",
            "sum of a even number: 20\n"
          ]
        }
      ]
    },
    {
      "cell_type": "code",
      "source": [
        "# Create a program that generates a list of squares of odd numbers between 1 and 10 using list comprehension.\n",
        "a = [1,2,3,4,5,6,7]\n",
        "squares_odd_number = [i**2 for i in range(1,11) if i %2 !=0 ]\n",
        "print(squares_odd_number)"
      ],
      "metadata": {
        "colab": {
          "base_uri": "https://localhost:8080/"
        },
        "id": "mko_ZF5t0l3e",
        "outputId": "d80e31b2-f298-4645-9112-556c48238d2c"
      },
      "execution_count": null,
      "outputs": [
        {
          "output_type": "stream",
          "name": "stdout",
          "text": [
            "[1, 9, 25, 49, 81]\n"
          ]
        }
      ]
    },
    {
      "cell_type": "code",
      "source": [
        "# Write a program that combines two lists into a dictionary using list comprehension.\n",
        "keys = ['name', 'age', 'city']\n",
        "values = ['John', 25, 'New York']\n",
        "combines = {key: value for key, value in zip(keys, values)}\n",
        "print(combines)"
      ],
      "metadata": {
        "colab": {
          "base_uri": "https://localhost:8080/"
        },
        "id": "1xjITYuL4ZcG",
        "outputId": "50df627b-b1f8-4ad5-d59e-fd8b89183e4c"
      },
      "execution_count": null,
      "outputs": [
        {
          "output_type": "stream",
          "name": "stdout",
          "text": [
            "{'name': 'John', 'age': 25, 'city': 'New York'}\n"
          ]
        }
      ]
    },
    {
      "cell_type": "code",
      "source": [
        "# Develop a program that extracts the vowels from a string and stores them in a list using list comprehension.\n",
        "a = input('enter the string')\n",
        "vowels = set('aeiouAEIOU')\n",
        "vowels_extract = [i for i in a if i in vowels]\n",
        "print(vowels_extract)"
      ],
      "metadata": {
        "colab": {
          "base_uri": "https://localhost:8080/"
        },
        "id": "-8SIGsYY6JA3",
        "outputId": "ab42fc27-d4be-4daa-d441-8fe0c9a6433a"
      },
      "execution_count": null,
      "outputs": [
        {
          "output_type": "stream",
          "name": "stdout",
          "text": [
            "enter the stringhello world\n",
            "['e', 'o', 'o']\n"
          ]
        }
      ]
    },
    {
      "cell_type": "code",
      "source": [
        "# Create a program that removes all non-numeric characters from a list of strings using list comprehension.\n",
        "a = ['abc123','12xyz']\n",
        "numeric_list = [''.join(char for char in string if char.isdigit()) for string in a]\n",
        "print(numeric_list)"
      ],
      "metadata": {
        "colab": {
          "base_uri": "https://localhost:8080/"
        },
        "id": "ZSBusw9Z8CXB",
        "outputId": "f19d5d61-61fd-4d67-d03c-d2122ac65fce"
      },
      "execution_count": null,
      "outputs": [
        {
          "output_type": "stream",
          "name": "stdout",
          "text": [
            "['123', '12']\n"
          ]
        }
      ]
    },
    {
      "cell_type": "markdown",
      "source": [
        "# Challenge Level"
      ],
      "metadata": {
        "id": "kz0gise59wAN"
      }
    },
    {
      "cell_type": "code",
      "source": [
        "# Write a program to generate a list of prime numbers using the Sieve of Eratosthenes algorithm and list comprehension.\n",
        "a = int(input('enter the number'))\n",
        "is_prime = [True] * (a+1)\n",
        "is_prime[0],is_prime[1] = False,False\n",
        "[is_prime.__setitem__(i, False) for i in range(2, int(a**0.5) + 1) if is_prime[i]]\n",
        "prime_numbers = [num for num in range(a + 1) if is_prime[num]]\n",
        "print(prime_numbers)"
      ],
      "metadata": {
        "colab": {
          "base_uri": "https://localhost:8080/"
        },
        "id": "v4H00BlB9lYR",
        "outputId": "65d92a39-381e-4a1d-e8a2-1eef5205d72d"
      },
      "execution_count": null,
      "outputs": [
        {
          "output_type": "stream",
          "name": "stdout",
          "text": [
            "enter the number5\n",
            "[3, 4, 5]\n"
          ]
        }
      ]
    },
    {
      "cell_type": "code",
      "source": [
        "# Create a program that generates a list of all Pythagorean triplets up to a specified limit using list comprehension.\n",
        "limit = int(input('enter the number'))\n",
        "pythogorean_triplets = [(a,b,c) for a in range(1,limit+1) for b in range(a,limit+1) for c in range(b,limit+1) if a**2 + b**2 == c**2]\n",
        "print(pythogorean_triplets)"
      ],
      "metadata": {
        "colab": {
          "base_uri": "https://localhost:8080/"
        },
        "id": "-uIntozET7MA",
        "outputId": "9772e59c-695f-4eb9-888f-74655a92f700"
      },
      "execution_count": null,
      "outputs": [
        {
          "output_type": "stream",
          "name": "stdout",
          "text": [
            "enter the number6\n",
            "[(3, 4, 5)]\n"
          ]
        }
      ]
    },
    {
      "cell_type": "code",
      "source": [
        "# Develop a program that generates a list of all possible combinations of two lists using list comprehension.\n",
        "\n",
        "list1 = ['a','b']\n",
        "list2 = [1,2,3]\n",
        "combinations = [(x,y) for x in list1 for y in list2]\n",
        "print(combinations)"
      ],
      "metadata": {
        "colab": {
          "base_uri": "https://localhost:8080/"
        },
        "id": "T91tXw4yn5Pl",
        "outputId": "1b85a3f0-2103-4e57-e02a-7ab3af9a0205"
      },
      "execution_count": null,
      "outputs": [
        {
          "output_type": "stream",
          "name": "stdout",
          "text": [
            "[('a', 1), ('a', 2), ('a', 3), ('b', 1), ('b', 2), ('b', 3)]\n"
          ]
        }
      ]
    },
    {
      "cell_type": "code",
      "source": [
        "# Write a program that calculates the mean, median, and mode of a list of numbers using list comprehension.\n",
        "import statistics\n",
        "no = [1,2,2,2,3,3,3,3,4,4,5]\n",
        "mean = sum(no)/ len(no)\n",
        "print(mean)\n",
        "sorted_numbers = sorted(no)\n",
        "median = (sorted_numbers[len(no) // 2] + sorted_numbers[(len(no) - 1) // 2]) / 2\n",
        "print(median)\n",
        "mode = max(set(no), key = no.count)\n",
        "print(mode)"
      ],
      "metadata": {
        "colab": {
          "base_uri": "https://localhost:8080/"
        },
        "id": "3Bfbsz0osF-6",
        "outputId": "6137a9ad-6b8e-48bd-c42d-a6f0cbcdbd50"
      },
      "execution_count": null,
      "outputs": [
        {
          "output_type": "stream",
          "name": "stdout",
          "text": [
            "2.909090909090909\n",
            "3.0\n",
            "3\n"
          ]
        }
      ]
    },
    {
      "cell_type": "code",
      "source": [
        "# Create a program that generates Pascal's triangle up to a specified number of rows using list comprehension.\n",
        "def generate_pascals_triangle(num_rows):\n",
        "    triangle = [[1]]\n",
        "\n",
        "    for _ in range(num_rows - 1):\n",
        "        previous_row = triangle[-1]\n",
        "        new_row = [1]\n",
        "\n",
        "        for i in range(1, len(previous_row)):\n",
        "            new_row.append(previous_row[i - 1] + previous_row[i])\n",
        "\n",
        "        new_row.append(1)\n",
        "        triangle.append(new_row)\n",
        "\n",
        "    return triangle\n",
        "\n",
        "num_rows = int(input(\"Enter the number of rows for Pascal's triangle: \"))\n",
        "\n",
        "pascals_triangle = generate_pascals_triangle(num_rows)\n",
        "\n",
        "for row in pascals_triangle:\n",
        "    print(\" \".join(map(str, row)).center(50))\n",
        "\n"
      ],
      "metadata": {
        "colab": {
          "base_uri": "https://localhost:8080/"
        },
        "id": "S7ltOc5Ku7o6",
        "outputId": "ee822939-5ad4-43be-e934-faaa69f4481b"
      },
      "execution_count": null,
      "outputs": [
        {
          "output_type": "stream",
          "name": "stdout",
          "text": [
            "Enter the number of rows for Pascal's triangle: 10\n",
            "                        1                         \n",
            "                       1 1                        \n",
            "                      1 2 1                       \n",
            "                     1 3 3 1                      \n",
            "                    1 4 6 4 1                     \n",
            "                  1 5 10 10 5 1                   \n",
            "                 1 6 15 20 15 6 1                 \n",
            "               1 7 21 35 35 21 7 1                \n",
            "              1 8 28 56 70 56 28 8 1              \n",
            "           1 9 36 84 126 126 84 36 9 1            \n"
          ]
        }
      ]
    },
    {
      "cell_type": "code",
      "source": [
        "# Develop a program that calculates the sum of the digits of a factorial of numbers from 1 to 5 using list comprehension.\n",
        "\n",
        "def factorial(n):\n",
        "    return 1 if n == 0 or n == 1 else n * factorial(n - 1)\n",
        "\n",
        "digit_sums = [sum(int(digit) for digit in str(factorial(i))) for i in range(1, 6)]\n",
        "\n",
        "for i, digit_sum in enumerate(digit_sums, start=1):\n",
        "    print(f\"Sum of digits in factorial of {i}: {digit_sum}\")\n"
      ],
      "metadata": {
        "id": "FhEKVQYp1gCa",
        "colab": {
          "base_uri": "https://localhost:8080/"
        },
        "outputId": "ed2b8a55-e4ab-48a0-a0a2-ad1bebd8b529"
      },
      "execution_count": null,
      "outputs": [
        {
          "output_type": "stream",
          "name": "stdout",
          "text": [
            "Sum of digits in factorial of 1: 1\n",
            "Sum of digits in factorial of 2: 2\n",
            "Sum of digits in factorial of 3: 6\n",
            "Sum of digits in factorial of 4: 6\n",
            "Sum of digits in factorial of 5: 3\n"
          ]
        }
      ]
    },
    {
      "cell_type": "code",
      "source": [
        "# Write a program that finds the longest word in a sentence using list comprehension.\n",
        "\n",
        "a = input('enter the text: ')\n",
        "b = [b.strip(\".,?!\") for b in a.split()]\n",
        "longest_word = max(b, key=len)\n",
        "print(longest_word)"
      ],
      "metadata": {
        "colab": {
          "base_uri": "https://localhost:8080/"
        },
        "id": "TEXJOTuvtifE",
        "outputId": "a4053138-d838-40b3-b4aa-e43df2d10922"
      },
      "execution_count": null,
      "outputs": [
        {
          "output_type": "stream",
          "name": "stdout",
          "text": [
            "enter the text: longest word in a sentence\n",
            "sentence\n"
          ]
        }
      ]
    },
    {
      "cell_type": "code",
      "source": [
        "# Create a program that filters a list of strings to include only those with more than three vowels using list comprehension.\n",
        "\n",
        "a = ['hello','world','welcome', 'to','data','science']\n",
        "vowels = set('aeiouAEIOU')\n",
        "result = [word for word in a if sum(1 for char in word if char in vowels) > 3]\n",
        "print(result)"
      ],
      "metadata": {
        "id": "qamz_bs7zSW6",
        "colab": {
          "base_uri": "https://localhost:8080/"
        },
        "outputId": "6e4ef0c9-d318-47ce-e163-eebf70ad0729"
      },
      "execution_count": null,
      "outputs": [
        {
          "output_type": "stream",
          "name": "stdout",
          "text": [
            "[]\n"
          ]
        }
      ]
    },
    {
      "cell_type": "code",
      "source": [
        "# Develop a program that calculates the sum of the digits of numbers from 1 to 1000 using list comprehension.\n",
        "start = int(input('enter the number'))\n",
        "end = int(input('enter the number'))\n",
        "digits_list = [[int(digit) for digit in str(number)] for number in range(start, end)]\n",
        "sum_of_digits_list = [sum(digits) for digits in digits_list]\n",
        "total_sum = sum(sum_of_digits_list)\n",
        "print(\"Sum of the digits are:\", total_sum)"
      ],
      "metadata": {
        "colab": {
          "base_uri": "https://localhost:8080/"
        },
        "id": "evNasyPJ0uET",
        "outputId": "3f099591-8d35-4763-bfdf-f8544108e59d"
      },
      "execution_count": null,
      "outputs": [
        {
          "output_type": "stream",
          "name": "stdout",
          "text": [
            "enter the number1\n",
            "enter the number1001\n",
            "Sum of the digits are: 13501\n"
          ]
        }
      ]
    },
    {
      "cell_type": "code",
      "source": [
        "# Write a program that generates a list of prime palindromic numbers using list comprehension.\n",
        "palindromic_numbers = [num for num in range(1, 1000) if str(num) == str(num)[::-1]]\n",
        "prime_palindromic_numbers = [num for num in palindromic_numbers if all(num % i != 0 for i in range(2, int(num**0.5) + 1)) and num > 1]\n",
        "print(\"Prime Palindromic Numbers:\", prime_palindromic_numbers)"
      ],
      "metadata": {
        "colab": {
          "base_uri": "https://localhost:8080/"
        },
        "id": "dUpl5Ih-1E7D",
        "outputId": "6f96eea2-e85d-4c79-bab3-9f505d4e9802"
      },
      "execution_count": null,
      "outputs": [
        {
          "output_type": "stream",
          "name": "stdout",
          "text": [
            "Prime Palindromic Numbers: [2, 3, 5, 7, 11, 101, 131, 151, 181, 191, 313, 353, 373, 383, 727, 757, 787, 797, 919, 929]\n"
          ]
        }
      ]
    },
    {
      "cell_type": "code",
      "source": [],
      "metadata": {
        "id": "g09W6EXmJZBR"
      },
      "execution_count": null,
      "outputs": []
    }
  ]
}