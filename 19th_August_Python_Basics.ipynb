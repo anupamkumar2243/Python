{
  "nbformat": 4,
  "nbformat_minor": 0,
  "metadata": {
    "colab": {
      "provenance": []
    },
    "kernelspec": {
      "name": "python3",
      "display_name": "Python 3"
    },
    "language_info": {
      "name": "python"
    }
  },
  "cells": [
    {
      "cell_type": "markdown",
      "source": [
        "# TOPIC: Python Basics Variable"
      ],
      "metadata": {
        "id": "YEpQOYWO6DH6"
      }
    },
    {
      "cell_type": "code",
      "execution_count": 1,
      "metadata": {
        "colab": {
          "base_uri": "https://localhost:8080/"
        },
        "id": "gzZ6dOmP5zt8",
        "outputId": "eda63cdf-fac6-4432-e22d-7acd843928e0"
      },
      "outputs": [
        {
          "output_type": "stream",
          "name": "stdout",
          "text": [
            "enter the number x21\n",
            "enter the number y42\n",
            "Before swapping the number:  21 42\n",
            "after swapping the number:  42 21\n"
          ]
        }
      ],
      "source": [
        "# Declare two variables, `x` and `y`, and assign them integer values. Swap the values of these variables without using any temporary variable.\n",
        "\n",
        "# Initialize two variables, x and y, with values 21 and 42, respectively.\n",
        "\n",
        "x = 21\n",
        "\n",
        "y = 42\n",
        "\n",
        "print('Before swapping the number: ',x,y)\n",
        "\n",
        "# Swap the values of x and y without using a temporary variable.\n",
        "\n",
        "# Step 1: Add the values of x and y and assign the result to x.\n",
        "\n",
        "x = x+y\n",
        "\n",
        "# Step 2: Subtract the original value of y from the new value of x and assign it to y.\n",
        "y = x-y\n",
        "\n",
        "# Step 3: Subtract the new value of y from the current value of x and assign it to x.\n",
        "x = x-y\n",
        "\n",
        "# Print the swaping value of x and y\n",
        "print('after swapping the number: ',x,y)"
      ]
    },
    {
      "cell_type": "code",
      "source": [
        "# Create a program that calculates the area of a rectangle. Take the length and width as inputs from the user and store them in variables. Calculate and display the area.\n",
        "\n",
        "# Prompt the user to enter the length of the rectangle and convert it to an integer.\n",
        "length = int(input('enter the length: '))\n",
        "\n",
        "# Prompt the user to enter the width of the rectangle and convert it to an integer.\n",
        "width = int(input('enter the width: '))\n",
        "\n",
        "# Calculate the area of the rectangle by multiplying the length and width.\n",
        "rectangle = length * width\n",
        "\n",
        "# Print the calculated area of the rectangle.\n",
        "print('Area of rectangle: ',rectangle)"
      ],
      "metadata": {
        "colab": {
          "base_uri": "https://localhost:8080/"
        },
        "id": "ukQk_mZa7B9P",
        "outputId": "4cc6ad8e-6c71-4cd3-8e61-b6b8139aa0ca"
      },
      "execution_count": 2,
      "outputs": [
        {
          "output_type": "stream",
          "name": "stdout",
          "text": [
            "enter the length: 21\n",
            "enter the width: 10\n",
            "Area of rectangle:  210\n"
          ]
        }
      ]
    },
    {
      "cell_type": "code",
      "source": [
        "# Write a Python program that converts temperatures from Celsius to Fahrenheit. Take the temperature in Celsius as input, store it in a variable, convert it to Fahrenheit, and display the result.\n",
        "\n",
        "# Prompt the user to enter the temperature in Celsius and convert it to an integer.\n",
        "celsius = int(input('enter the temperature in celsius: '))\n",
        "\n",
        "# Convert the temperature from Celsius to Fahrenheit using the formula (Celsius * 1.8) + 32.\n",
        "fahrenheit = (celsius * 1.8 ) + 32\n",
        "\n",
        "# Print the temperature in Fahrenheit.\n",
        "print('temperature in fahrenheit: ',fahrenheit)"
      ],
      "metadata": {
        "colab": {
          "base_uri": "https://localhost:8080/"
        },
        "id": "1CQSGUmL9Uqr",
        "outputId": "ab12ef77-84da-4f76-8f98-5dfe10e298e4"
      },
      "execution_count": 5,
      "outputs": [
        {
          "output_type": "stream",
          "name": "stdout",
          "text": [
            "enter the temperature in celsius: 26\n",
            "temperature in fahrenheit:  78.80000000000001\n"
          ]
        }
      ]
    },
    {
      "cell_type": "markdown",
      "source": [
        "# TOPIC: String Based Questions"
      ],
      "metadata": {
        "id": "DNQu7ZTU-_tU"
      }
    },
    {
      "cell_type": "code",
      "source": [
        "# Write a Python program that takes a string as input and prints the length of the string.\n",
        "\n",
        "# Prompt the user to enter a string and store it in the 'text' variable.\n",
        "text = input('enter the string: ')\n",
        "\n",
        "# Initialize a variable 'count' to 0 to keep track of the string length.\n",
        "count = 0\n",
        "\n",
        "# Iterate through each character in the 'text' string.\n",
        "for i in text:\n",
        "   # For each character, increment the 'count' by 1, effectively counting the characters.\n",
        "  count+=1\n",
        "\n",
        "# Print the length of the string.\n",
        "print('length of the string: ',count)"
      ],
      "metadata": {
        "colab": {
          "base_uri": "https://localhost:8080/"
        },
        "id": "m0H4kiiB-bpa",
        "outputId": "fc123e3f-629e-467f-dffe-bd5a4ef46687"
      },
      "execution_count": 6,
      "outputs": [
        {
          "output_type": "stream",
          "name": "stdout",
          "text": [
            "enter the string: this is python\n",
            "length of the string:  14\n"
          ]
        }
      ]
    },
    {
      "cell_type": "code",
      "source": [
        "# Create a program that takes a sentence from the user and counts the number of vowels (a, e, i, o, u) in the string.\n",
        "\n",
        "# Prompt the user to enter a string and store it in the 'text' variable.\n",
        "text = input('enter the string: ')\n",
        "\n",
        "# Initialize a variable 'count' to 0 to keep track of the vowel count.\n",
        "count = 0\n",
        "\n",
        "# Define a string 'vowel' containing all uppercase and lowercase vowels.\n",
        "vowel = 'AEIOUaeiou'\n",
        "\n",
        "# Iterate through each character in the 'text' string.\n",
        "for i in text:\n",
        "   # Check if the current character 'i' is a vowel by looking for it in the 'vowels' string.\n",
        "  if i in vowel:\n",
        "    # If the character is a vowel, increment the 'count' by 1 to count it.\n",
        "    count+=1\n",
        "# Print the count of vowels in the string.\n",
        "print('count of the vowel in the string is: ',count)"
      ],
      "metadata": {
        "colab": {
          "base_uri": "https://localhost:8080/"
        },
        "id": "b__J8xOr_07c",
        "outputId": "92c299e8-cfd9-45f4-b381-5f2fa8cfa2ee"
      },
      "execution_count": 7,
      "outputs": [
        {
          "output_type": "stream",
          "name": "stdout",
          "text": [
            "enter the string: hello, this is python\n",
            "count of the vowel in the string is:  5\n"
          ]
        }
      ]
    },
    {
      "cell_type": "code",
      "source": [
        "# Given a string, reverse the order of characters using string slicing and print the reversed string.\n",
        "\n",
        "# Prompt the user to enter a string and store it in the 'text' variable.\n",
        "text = input('enter the string: ')\n",
        "\n",
        "# Use slicing with [::-1] to reverse the order of characters in the 'text' string.\n",
        "reverse_text = text[::-1]\n",
        "\n",
        "# Print the string after reversing it.\n",
        "print('string after reverse: ', reverse_text)"
      ],
      "metadata": {
        "colab": {
          "base_uri": "https://localhost:8080/"
        },
        "id": "ukUqyXIRAlSR",
        "outputId": "11c5af34-fcdd-45f8-963e-3a3c193a34ef"
      },
      "execution_count": 8,
      "outputs": [
        {
          "output_type": "stream",
          "name": "stdout",
          "text": [
            "enter the string: hello world\n",
            "string after reverse:  dlrow olleh\n"
          ]
        }
      ]
    },
    {
      "cell_type": "code",
      "source": [
        "# Write a program that takes a string as input and checks if it is a palindrome (reads the same forwards and backwards).\n",
        "\n",
        "# Prompt the user to enter a string and store it in the 'text' variable.\n",
        "text = input('enter the string: ')\n",
        "\n",
        "# Reverse the 'text' string using slicing and store it in the 'check_palindrome' variable.\n",
        "check_palindrome = text[::-1]\n",
        "\n",
        "# Check if the reversed string 'check_palindrome' is equal to the original 'text'.\n",
        "if check_palindrome == text:\n",
        "  print('it is palindrome')\n",
        "else:\n",
        "  print('it is not a palindrome')"
      ],
      "metadata": {
        "colab": {
          "base_uri": "https://localhost:8080/"
        },
        "id": "lG9ONf3qBlXX",
        "outputId": "5166811c-782e-4be3-b835-b2ec5dea8142"
      },
      "execution_count": 9,
      "outputs": [
        {
          "output_type": "stream",
          "name": "stdout",
          "text": [
            "enter the string121\n",
            "it is palindrome\n"
          ]
        }
      ]
    },
    {
      "cell_type": "code",
      "source": [
        "# Create a program that takes a string as input and removes all the spaces from it. Print the modified string without spaces.\n",
        "text = input('enter the string: ')\n",
        "print('before removing the spaces:',text)\n",
        "\n",
        "# Use the 'replace' method to remove spaces (' ') from the 'text' and store the result in 'remove_spaces'.\n",
        "remove_spaces = text.replace(' ','')\n",
        "print('after removing the spaces', remove_spaces)"
      ],
      "metadata": {
        "colab": {
          "base_uri": "https://localhost:8080/"
        },
        "id": "HWMepmqfCNeb",
        "outputId": "b00ed6ec-14f0-4d46-a521-02a290d69846"
      },
      "execution_count": 11,
      "outputs": [
        {
          "output_type": "stream",
          "name": "stdout",
          "text": [
            "enter the string: hello world\n",
            "before removing the spaces: hello world\n",
            "after removing the spaces helloworld\n"
          ]
        }
      ]
    },
    {
      "cell_type": "code",
      "source": [],
      "metadata": {
        "id": "_B4_uD3uC9ho"
      },
      "execution_count": null,
      "outputs": []
    }
  ]
}